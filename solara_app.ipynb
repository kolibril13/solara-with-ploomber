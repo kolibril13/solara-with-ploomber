{
 "cells": [
  {
   "cell_type": "code",
   "execution_count": null,
   "metadata": {},
   "outputs": [],
   "source": [
    "import solara\n",
    "\n",
    "# Declare reactive variables at the top level. Components using these variables\n",
    "# will be re-executed when their values change.\n",
    "sentence = solara.reactive(\"Solara makes our team more productive.\")\n",
    "word_limit = solara.reactive(10)\n",
    "\n",
    "\n",
    "@solara.component\n",
    "def Page():\n",
    "    # Calculate word_count within the component to ensure re-execution when reactive variables change.\n",
    "    word_count = len(sentence.value.split())\n",
    "\n",
    "    solara.SliderInt(\"Word limit\", value=word_limit, min=2, max=20)\n",
    "    solara.InputText(label=\"Your sentence\", value=sentence, continuous_update=True)\n",
    "\n",
    "    # Display messages based on the current word count and word limit.\n",
    "    if word_count >= int(word_limit.value):\n",
    "        solara.Error(f\"With {word_count} words, you passed the word limit of {word_limit.value}.\")\n",
    "    elif word_count >= int(0.8 * word_limit.value):\n",
    "        solara.Warning(f\"With {word_count} words, you are close to the word limit of {word_limit.value}.\")\n",
    "    else:\n",
    "        solara.Success(\"Great short writing!\")\n",
    "\n",
    "\n",
    "# The following line is required only when running the code in a Jupyter notebook:\n",
    "Page()"
   ]
  }
 ],
 "metadata": {
  "kernelspec": {
   "display_name": ".venv",
   "language": "python",
   "name": "python3"
  },
  "language_info": {
   "name": "python",
   "version": "3.11.7"
  }
 },
 "nbformat": 4,
 "nbformat_minor": 2
}
